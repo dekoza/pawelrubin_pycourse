{
 "cells": [
  {
   "cell_type": "markdown",
   "metadata": {},
   "source": [
    "# Lista 1\n",
    "\n",
    "## Kurs wybranego języka programowania (Python)\n",
    "\n",
    "Wszystkie rozwiązania proszę wpisać w tym notatniku poniżej treści zadań. Zadania z `*` to zadania dodatkowe."
   ]
  },
  {
   "cell_type": "markdown",
   "metadata": {},
   "source": [
    "## Zadanie 1 _(5pt)_\n",
    "\n",
    "Napisz funkcję, który wyświetla trójkąt Pascala o zadanej wysokości\n",
    "```\n",
    "                1\n",
    "              1   1\n",
    "            1   2   1\n",
    "          1   3   3   1\n",
    "        1   4   6   4   1\n",
    "      .....................\n",
    "```"
   ]
  },
  {
   "cell_type": "code",
   "execution_count": 2,
   "metadata": {},
   "outputs": [
    {
     "name": "stdout",
     "output_type": "stream",
     "text": "\n          1          \n        1   1        \n      1   2   1      \n    1   3   3   1    \n  1   4   6   4   1  \n.....................\n"
    }
   ],
   "source": [
    "def print_triangle(triangle):\n",
    "    triangle_str = \"\\n\"\n",
    "    for i, row in enumerate(triangle):\n",
    "        padding = (len(triangle) - i) * 2 * \" \"\n",
    "        triangle_str += padding + \"   \".join(map(str, row)) + padding + \"\\n\"\n",
    "    triangle_str += (len(triangle) * 4 + 1) * \".\"\n",
    "    print(triangle_str)\n",
    "\n",
    "\n",
    "def pascal_triangle(n):\n",
    "    return [row := [1]] + [\n",
    "        row := [1] + [n + m for n, m in zip(row, row[1:])] + [1] for i in range(n)\n",
    "    ]\n",
    "\n",
    "\n",
    "print_triangle(pascal_triangle(4))\n"
   ]
  },
  {
   "cell_type": "markdown",
   "execution_count": 6,
   "metadata": {},
   "outputs": [
    {
     "ename": "SyntaxError",
     "evalue": "invalid syntax (<ipython-input-6-eaa3beaa68f9>, line 3)",
     "output_type": "error",
     "traceback": [
      "\u001b[0;36m  File \u001b[0;32m\"<ipython-input-6-eaa3beaa68f9>\"\u001b[0;36m, line \u001b[0;32m3\u001b[0m\n\u001b[0;31m    Napisz funkcję `primes(n)` zwracająca listę liczb pierwszych nie większych niż $n$ np.\u001b[0m\n\u001b[0m           ^\u001b[0m\n\u001b[0;31mSyntaxError\u001b[0m\u001b[0;31m:\u001b[0m invalid syntax\n"
     ]
    }
   ],
   "source": [
    "## Zadanie 2 _(5pt)_\n",
    "\n",
    "Napisz funkcję `primes(n)` zwracająca listę liczb pierwszych nie większych niż $n$ np.\n",
    "\n",
    "```\n",
    "In [ ]:   primes(6)\n",
    "Out [ ]: [2, 3, 5]\n",
    "```"
   ]
  },
  {
   "cell_type": "code",
   "execution_count": 2,
   "metadata": {},
   "outputs": [
    {
     "name": "stdout",
     "output_type": "stream",
     "text": "[2, 3, 5]\n"
    }
   ],
   "source": [
    "import math\n",
    "\n",
    "\n",
    "def is_prime(n):\n",
    "    return all(n % i > 0 for i in range(2, int(math.sqrt(n) + 1)))\n",
    "\n",
    "\n",
    "def primes(n):\n",
    "    return [i for i in range(2, n) if is_prime(i)]\n",
    "\n",
    "\n",
    "print(primes(6))\n"
   ]
  },
  {
   "cell_type": "markdown",
   "metadata": {},
   "source": [
    "## Zadanie 3 _(5pt)_\n",
    "\n",
    "Napisz funkcje, która usuwa wszystkie powtarzające się elementy z listy (tak, że każdy element występuje tylko raz) np. z listy `[1,1,2,2,2,3,3,5,5,5,4,4,4,0]` dostajemy `[1,2,3,5,4,0]`."
   ]
  },
  {
   "cell_type": "code",
   "execution_count": 3,
   "metadata": {},
   "outputs": [
    {
     "data": {
      "text/plain": "[1, 2, 3, 5, 4, 0]"
     },
     "execution_count": 3,
     "metadata": {},
     "output_type": "execute_result"
    }
   ],
   "source": [
    "\n",
    "def make_unique(l):\n",
    "    return list(dict.fromkeys(l))\n",
    "\n",
    "make_unique([1,1,2,2,2,3,3,5,5,5,4,4,4,0])"
   ]
  },
  {
   "cell_type": "markdown",
   "metadata": {},
   "source": [
    "## Zadanie 4 _(10pt)_\n",
    "\n",
    "Napisz funkcję `prime_factors(n)`, która rozkłada $n$ na czynniki pierwsze i jako wynik wraca listę par $[(p_1,\\alpha_1), (p_2,\\alpha_2), \\ldots, (p_k, \\alpha_k)]$ taką, że $p_1^{\\alpha_1}p_2^{\\alpha_2}\\ldots p_k^{\\alpha_k}$.\n"
   ]
  },
  {
   "cell_type": "code",
   "execution_count": 7,
   "metadata": {},
   "outputs": [
    {
     "data": {
      "text/plain": "[(2, 3), (3, 1), (5, 1)]"
     },
     "execution_count": 7,
     "metadata": {},
     "output_type": "execute_result"
    }
   ],
   "source": [
    "\n",
    "\n",
    "def prime_factors(n):\n",
    "    factors = []\n",
    "    for p in [p for p in range(2, int(math.sqrt(n))) if is_prime(p)]:\n",
    "        a = 0\n",
    "        while n % p == 0:\n",
    "            n /= p\n",
    "            a += 1\n",
    "        if a > 0:\n",
    "            factors.append((p, a))\n",
    "    return factors\n",
    "\n",
    "prime_factors(120)"
   ]
  },
  {
   "cell_type": "markdown",
   "metadata": {},
   "source": [
    "## Zadanie 5 _(10pt)_\n",
    "\n",
    "Napisz funkcję `fraczero(n)` liczącą silnie $n!$ dla $n$ od $0$ do $10000$ oraz jako wynik wraca liczbę zer na końcu $n!$."
   ]
  },
  {
   "cell_type": "code",
   "execution_count": 4,
   "metadata": {},
   "outputs": [
    {
     "name": "stdout",
     "output_type": "stream",
     "text": "28\n"
    }
   ],
   "source": [
    "def fraczero(n):\n",
    "    zeros = 0\n",
    "    while n > 0:\n",
    "        n //= 5\n",
    "        zeros += n\n",
    "    return zeros\n",
    "\n",
    "\n",
    "print(fraczero(123))"
   ]
  },
  {
   "cell_type": "markdown",
   "metadata": {},
   "source": [
    "## Zadanie 6 _(10pt)_\n",
    "\n",
    "Napisz program, który generuje liczbę $20$ liczb losowych (rozkład jednostajny) od $1$ do $100$\n",
    "* Wyświetl listę wygenerowanych liczb\n",
    "* Wyświetl średnią\n",
    "* Wyświetl największą i najmniejszą wartość\n",
    "* Wyświetl drugą największą i drugą najmniejszą wartość na liście\n",
    "* Wyświetl ile jest liczb parzystych na liście\n",
    " "
   ]
  },
  {
   "cell_type": "code",
   "execution_count": 6,
   "metadata": {},
   "outputs": [
    {
     "name": "stdout",
     "output_type": "stream",
     "text": "random vector: [24, 61, 51, 8, 71, 87, 1, 80, 49, 88, 3, 23, 25, 40, 45, 90, 95, 85, 72, 59]\nmean: 52.85\nmin, max: 1, 95\nsecond min, max: 3, 90\neven count: 7\n"
    }
   ],
   "source": [
    "\n",
    "    import random\n",
    "    import statistics\n",
    "\n",
    "    \n",
    "    vector = [random.randint(1, 100) for i in range(20)]\n",
    "    print(f\"random vector: {vector}\")\n",
    "    print(f\"mean: {statistics.mean(vector)}\")\n",
    "    print(f\"min, max: {min(vector)}, {max(vector)}\")\n",
    "    print(f\"second min, max: {sorted(vector)[1]}, {sorted(vector)[-2]}\")\n",
    "    print(f\"even count: {sum(1 for i in vector if i % 2 == 0)}\")"
   ]
  },
  {
   "cell_type": "markdown",
   "metadata": {},
   "source": [
    "## Zadanie 7 _(10pt)_\n",
    "\n",
    "Załóżmy, że mamy następującą listę: `L = ['aababacaa', 'cabaabcca', 'aaabbcbacb', 'acababbaab', ...]` wygenerowaną losowo tzn. lista zawiera losowe ciągi znaków o zadanej długości z liter `'a'`, `'b'` i `'c'`. Takie wzorce występują w wielu miejscach np. sekwencje DNA. Użytkownik zawiera swój (wzorzec) ciąg znaków z literami i pustymi miejscami oznaczonymi przez `'*'` np. `\"a**a******\"`. Wykorzystaj słownik z kluczami zawierającymi indeksy znaków różnych od `'*'` i wartościami liter z wzorca. Napisz program, który znajduje wszystkie sekwencje z listy, które pasuje do podanego wzorca."
   ]
  },
  {
   "cell_type": "code",
   "execution_count": 3,
   "metadata": {},
   "outputs": [
    {
     "data": {
      "text/plain": "['aababacaa']"
     },
     "execution_count": 3,
     "metadata": {},
     "output_type": "execute_result"
    }
   ],
   "source": [
    "def sequence_matcher(pattern, sequences):\n",
    "    pattern_dict = {i: c for i, c in enumerate(pattern) if c != \"*\"}\n",
    "    return [s for s in sequences if all(s[i] == c for i, c in pattern_dict.items())]\n",
    "\n",
    "\n",
    "sequence_matcher(\n",
    "    \"a**a******\", [\"aababacaa\", \"cabaabcca\", \"aaabbcbacb\", \"acababbaab\"]\n",
    ")\n"
   ]
  },
  {
   "cell_type": "markdown",
   "metadata": {},
   "source": [
    "## Zadanie 8 _(10pt)_\n",
    "\n",
    "Napisz program, który konwerteruje liczby rzymskie na liczby arabskie. Do zapisu liczb rzymskich używa\n",
    "się 7 liter: `I=1`, `V=5`, `X=10`, `L=50`, `C=100`, `D=500`, `M=1000`. Opis algorytmu zamiany z i na system rzymski można znaleźć np. [tutaj](http://www.algorytm.org/algorytmy-arytmetyczne/zamiana-z-i-na-system-rzymski.html)"
   ]
  },
  {
   "cell_type": "code",
   "execution_count": 3,
   "metadata": {},
   "outputs": [
    {
     "data": {
      "text/plain": "3999"
     },
     "execution_count": 3,
     "metadata": {},
     "output_type": "execute_result"
    }
   ],
   "source": [
    "def roman_to_arabic(roman):\n",
    "    roman_numerals = {\"I\": 1, \"V\": 5, \"X\": 10, \"L\": 50, \"C\": 100, \"D\": 500, \"M\": 1000}\n",
    "    arabic = 0\n",
    "    for i, r in enumerate(roman):\n",
    "        if i == len(roman) - 1 or roman_numerals[r] >= roman_numerals[roman[i + 1]]:\n",
    "            arabic += roman_numerals[r]\n",
    "        else:\n",
    "            arabic -= roman_numerals[r]\n",
    "\n",
    "    return arabic\n",
    "\n",
    "roman_to_arabic(\"MMMCMXCIX\")"
   ]
  },
  {
   "cell_type": "markdown",
   "metadata": {},
   "source": [
    "## Zadanie 9* _(5pt)_\n",
    "\n",
    "Napisz program kalkulator, który pobiera wprowadzone wartości oraz funkcje z klawiatury następnie podaje wynik. W przypadku błędnych danych zgłasza błąd.\n",
    "\n",
    "Przykładowa sesja:\n",
    "```\n",
    "    Kalkulator\n",
    "    [1]: 2+5*10\n",
    "        52\n",
    "    [2]: sin(0.5)+cos(0.3)\n",
    "        1.434762027729809\n",
    "    [3]: 2^100\n",
    "        1267650600228229401496703205376\n",
    "```\n",
    "\n",
    "Przykładowy kod pobierania danych od użytkownika:\n",
    "\n",
    "```\n",
    "    x = input('Podaj x = ')\n",
    "```"
   ]
  },
  {
   "cell_type": "code",
   "execution_count": null,
   "metadata": {},
   "outputs": [],
   "source": []
  },
  {
   "cell_type": "markdown",
   "metadata": {},
   "source": [
    "\n",
    "## Zadanie 10* _(10pt)_\n",
    "\n",
    "Napisz program, który rysuje na ekranie w trybie znakowym wykres funkcji zmiennej $x$. Wskazówka: utwórz  ,,tablicę dwuwymiarową'' o wymiarach 80x24 i narysuj wykres w tej tablicy. Następnie wynik wyświetl na ekranie.\n",
    "\n",
    "```\n",
    "        Podaj funkcje f(x) = sin(x)\n",
    "        Podaj początek przedziału a = -pi\n",
    "        Podaj koniec przedziału b = pi\n",
    "                                                |\n",
    "                                                |\n",
    "                                                |              ***********\n",
    "                                                |           ***           ***\n",
    "                                                |         **                 **\n",
    "                                                |        *                     *\n",
    "                                                |      **                       **\n",
    "                                                |     *                           *\n",
    "                                                |   **                             **\n",
    "                                                |  *                                 *\n",
    "                                                | *                                   *\n",
    "                                                |*                                     *\n",
    "        ----------------------------------------|---------------------------------------\n",
    "          *                                   * |\n",
    "           *                                 *  |\n",
    "            **                             **   |\n",
    "              *                           *     |\n",
    "               **                       **      |\n",
    "                 *                     *        |\n",
    "                  **                 **         |\n",
    "                    ***           ***           |\n",
    "                       ***** *****              |\n",
    "                            *                   |\n",
    "                                                |\n",
    "```"
   ]
  },
  {
   "cell_type": "code",
   "execution_count": null,
   "metadata": {},
   "outputs": [],
   "source": []
  }
 ],
 "metadata": {
  "kernelspec": {
   "display_name": "Python 3",
   "language": "python",
   "name": "python3"
  },
  "language_info": {
   "codemirror_mode": {
    "name": "ipython",
    "version": 3
   },
   "file_extension": ".py",
   "mimetype": "text/x-python",
   "name": "python",
   "nbconvert_exporter": "python",
   "pygments_lexer": "ipython3",
   "version": "3.8.1-final"
  }
 },
 "nbformat": 4,
 "nbformat_minor": 2
}
